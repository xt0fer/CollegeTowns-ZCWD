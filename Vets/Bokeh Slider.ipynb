{
 "cells": [
  {
   "cell_type": "markdown",
   "metadata": {},
   "source": [
    "Check out this for more Bokeh ideas\n",
    "[Bokeh Gallery](https://bokeh.pydata.org/en/latest/docs/gallery.html)"
   ]
  },
  {
   "cell_type": "code",
   "execution_count": 2,
   "metadata": {},
   "outputs": [],
   "source": [
    "''' Present an interactive function explorer with slider widgets.\n",
    "\n",
    "Scrub the sliders to change the properties of the ``sin`` curve, or\n",
    "type into the title text box to update the title of the plot.\n",
    "\n",
    "Use the ``bokeh serve`` command to run the example by executing:\n",
    "\n",
    "    bokeh serve sliders.py\n",
    "\n",
    "at your command prompt. Then navigate to the URL\n",
    "\n",
    "    http://localhost:5006/sliders\n",
    "\n",
    "in your browser.\n",
    "\n",
    "'''\n",
    "import numpy as np\n",
    "\n",
    "from bokeh.io import curdoc\n",
    "from bokeh.layouts import row, column\n",
    "from bokeh.models import ColumnDataSource\n",
    "from bokeh.models.widgets import Slider, TextInput\n",
    "from bokeh.plotting import figure\n",
    "\n",
    "# Set up data\n",
    "N = 200\n",
    "x = np.linspace(0, 4*np.pi, N)\n",
    "y = np.sin(x)\n",
    "source = ColumnDataSource(data=dict(x=x, y=y))\n",
    "\n",
    "\n",
    "# Set up plot\n",
    "plot = figure(plot_height=400, plot_width=400, title=\"my sine wave\",\n",
    "              tools=\"crosshair,pan,reset,save,wheel_zoom\",\n",
    "              x_range=[0, 4*np.pi], y_range=[-2.5, 2.5])\n",
    "\n",
    "plot.line('x', 'y', source=source, line_width=3, line_alpha=0.6)\n",
    "\n",
    "\n",
    "# Set up widgets\n",
    "text = TextInput(title=\"title\", value='my sine wave')\n",
    "offset = Slider(title=\"offset\", value=0.0, start=-5.0, end=5.0, step=0.1)\n",
    "amplitude = Slider(title=\"amplitude\", value=1.0, start=-5.0, end=5.0, step=0.1)\n",
    "phase = Slider(title=\"phase\", value=0.0, start=0.0, end=2*np.pi)\n",
    "freq = Slider(title=\"frequency\", value=1.0, start=0.1, end=5.1, step=0.1)\n",
    "\n",
    "\n",
    "# Set up callbacks\n",
    "def update_title(attrname, old, new):\n",
    "    plot.title.text = text.value\n",
    "\n",
    "text.on_change('value', update_title)\n",
    "\n",
    "def update_data(attrname, old, new):\n",
    "\n",
    "    # Get the current slider values\n",
    "    a = amplitude.value\n",
    "    b = offset.value\n",
    "    w = phase.value\n",
    "    k = freq.value\n",
    "\n",
    "    # Generate the new curve\n",
    "    x = np.linspace(0, 4*np.pi, N)\n",
    "    y = a*np.sin(k*x + w) + b\n",
    "\n",
    "    source.data = dict(x=x, y=y)\n",
    "\n",
    "for w in [offset, amplitude, phase, freq]:\n",
    "    w.on_change('value', update_data)\n",
    "\n",
    "\n",
    "# Set up layouts and add to document\n",
    "inputs = column(text, offset, amplitude, phase, freq)\n",
    "\n",
    "curdoc().add_root(row(inputs, plot, width=800))\n",
    "curdoc().title = \"Sliders\""
   ]
  },
  {
   "cell_type": "code",
   "execution_count": null,
   "metadata": {},
   "outputs": [],
   "source": []
  },
  {
   "cell_type": "code",
   "execution_count": 3,
   "metadata": {},
   "outputs": [
    {
     "name": "stdout",
     "output_type": "stream",
     "text": [
      "Requirement already satisfied: bokeh in /Users/kristofer/anaconda3/lib/python3.7/site-packages (1.2.0)\n",
      "Requirement already satisfied: Jinja2>=2.7 in /Users/kristofer/anaconda3/lib/python3.7/site-packages (from bokeh) (2.10.1)\n",
      "Requirement already satisfied: pillow>=4.0 in /Users/kristofer/anaconda3/lib/python3.7/site-packages (from bokeh) (6.1.0)\n",
      "Requirement already satisfied: six>=1.5.2 in /Users/kristofer/anaconda3/lib/python3.7/site-packages (from bokeh) (1.12.0)\n",
      "Requirement already satisfied: PyYAML>=3.10 in /Users/kristofer/anaconda3/lib/python3.7/site-packages (from bokeh) (5.1.1)\n",
      "Requirement already satisfied: tornado>=4.3 in /Users/kristofer/anaconda3/lib/python3.7/site-packages (from bokeh) (6.0.3)\n",
      "Requirement already satisfied: packaging>=16.8 in /Users/kristofer/anaconda3/lib/python3.7/site-packages (from bokeh) (19.0)\n",
      "Requirement already satisfied: python-dateutil>=2.1 in /Users/kristofer/anaconda3/lib/python3.7/site-packages (from bokeh) (2.8.0)\n",
      "Requirement already satisfied: numpy>=1.7.1 in /Users/kristofer/anaconda3/lib/python3.7/site-packages (from bokeh) (1.16.4)\n",
      "Requirement already satisfied: MarkupSafe>=0.23 in /Users/kristofer/anaconda3/lib/python3.7/site-packages (from Jinja2>=2.7->bokeh) (1.1.1)\n",
      "Requirement already satisfied: pyparsing>=2.0.2 in /Users/kristofer/anaconda3/lib/python3.7/site-packages (from packaging>=16.8->bokeh) (2.4.0)\n",
      "Note: you may need to restart the kernel to use updated packages.\n"
     ]
    }
   ],
   "source": [
    "%pip install bokeh"
   ]
  },
  {
   "cell_type": "code",
   "execution_count": 4,
   "metadata": {},
   "outputs": [
    {
     "name": "stdout",
     "output_type": "stream",
     "text": [
      "2019-09-25 15:55:18,624 Starting Bokeh server version 1.2.0 (running on Tornado 6.0.3)\n",
      "2019-09-25 15:55:18,638 Bokeh app running at: http://localhost:5006/sliders\n",
      "2019-09-25 15:55:18,638 Starting Bokeh server with process id: 76639\n",
      "2019-09-25 15:55:24,549 200 GET /sliders (::1) 134.01ms\n",
      "2019-09-25 15:55:24,573 200 GET /static/css/bokeh.min.css?v=8a37df7874e86834c87075ee096f36b7 (::1) 10.70ms\n",
      "2019-09-25 15:55:24,574 200 GET /static/css/bokeh-widgets.min.css?v=5fb15c2fc1344abfe5fa3615a34beae7 (::1) 10.82ms\n",
      "2019-09-25 15:55:24,579 200 GET /static/css/bokeh-tables.min.css?v=69a9e725f277a6c569c9261b8ffe50eb (::1) 1.17ms\n",
      "2019-09-25 15:55:24,582 200 GET /static/js/bokeh.min.js?v=1bfbafacfa847bc6589a4af73a904fef (::1) 2.01ms\n",
      "2019-09-25 15:55:24,584 200 GET /static/js/bokeh-widgets.min.js?v=d568632a768b6d5e0dcc8c423778d737 (::1) 0.83ms\n",
      "2019-09-25 15:55:24,590 200 GET /static/js/bokeh-tables.min.js?v=e840bf73f9fef1bffb5540a1aab13c0d (::1) 1.64ms\n",
      "2019-09-25 15:55:24,601 200 GET /static/js/bokeh-gl.min.js?v=237dac0049e0a21220ba02fa552173a1 (::1) 1.30ms\n",
      "2019-09-25 15:55:24,780 404 GET /favicon.ico (::1) 0.47ms\n",
      "2019-09-25 15:55:27,046 101 GET /sliders/ws?bokeh-protocol-version=1.0&bokeh-session-id=BnieqQjAV9DxMXQTVzEgxWJlXpm8GnsjXwfovgw496io (::1) 0.90ms\n",
      "2019-09-25 15:55:27,046 WebSocket connection opened\n",
      "2019-09-25 15:55:27,046 ServerConnection created\n",
      "^C\n",
      "\n",
      "Interrupted, shutting down\n"
     ]
    }
   ],
   "source": [
    "# run this again to get the interactive Bokeh plot of Sine.\n",
    "!bokeh serve sliders.py"
   ]
  },
  {
   "cell_type": "markdown",
   "metadata": {},
   "source": [
    "First Header | Second Header\n",
    "------------ | -------------\n",
    "Content cell 1 | Content cell 2\n",
    "Content column 1 | Content column2\n",
    "kris | loves markdown"
   ]
  },
  {
   "cell_type": "code",
   "execution_count": null,
   "metadata": {},
   "outputs": [],
   "source": []
  }
 ],
 "metadata": {
  "kernelspec": {
   "display_name": "Python 3",
   "language": "python",
   "name": "python3"
  },
  "language_info": {
   "codemirror_mode": {
    "name": "ipython",
    "version": 3
   },
   "file_extension": ".py",
   "mimetype": "text/x-python",
   "name": "python",
   "nbconvert_exporter": "python",
   "pygments_lexer": "ipython3",
   "version": "3.7.3"
  }
 },
 "nbformat": 4,
 "nbformat_minor": 2
}
