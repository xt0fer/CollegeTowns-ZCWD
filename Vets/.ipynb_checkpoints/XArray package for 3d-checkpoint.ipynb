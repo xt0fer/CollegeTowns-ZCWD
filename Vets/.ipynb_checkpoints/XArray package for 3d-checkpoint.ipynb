{
 "cells": [
  {
   "cell_type": "code",
   "execution_count": 1,
   "metadata": {},
   "outputs": [],
   "source": [
    "import numpy as np\n",
    "\n",
    "A = np.array([[7,11,56,45], [20,21,74,12]]).T\n",
    "B = np.array([[42], [52]]).T\n",
    "C = np.array([[90,213,9], [101, 34, 45]]).T"
   ]
  },
  {
   "cell_type": "code",
   "execution_count": 3,
   "metadata": {
    "collapsed": true
   },
   "outputs": [
    {
     "name": "stdout",
     "output_type": "stream",
     "text": [
      "Collecting xarray\n",
      "\u001b[?25l  Downloading https://files.pythonhosted.org/packages/e0/7b/b969f686fa7d15232be520d7d82f9818afc2e7027c1c215d742dd9e244b2/xarray-0.13.0-py2.py3-none-any.whl (594kB)\n",
      "\u001b[K     |████████████████████████████████| 604kB 1.8MB/s eta 0:00:01\n",
      "\u001b[?25hRequirement already satisfied: pandas>=0.19.2 in /Users/kristofer/anaconda3/lib/python3.7/site-packages (from xarray) (0.24.2)\n",
      "Requirement already satisfied: numpy>=1.12 in /Users/kristofer/anaconda3/lib/python3.7/site-packages (from xarray) (1.16.4)\n",
      "Requirement already satisfied: python-dateutil>=2.5.0 in /Users/kristofer/anaconda3/lib/python3.7/site-packages (from pandas>=0.19.2->xarray) (2.8.0)\n",
      "Requirement already satisfied: pytz>=2011k in /Users/kristofer/anaconda3/lib/python3.7/site-packages (from pandas>=0.19.2->xarray) (2019.1)\n",
      "Requirement already satisfied: six>=1.5 in /Users/kristofer/anaconda3/lib/python3.7/site-packages (from python-dateutil>=2.5.0->pandas>=0.19.2->xarray) (1.12.0)\n",
      "Installing collected packages: xarray\n",
      "Successfully installed xarray-0.13.0\n",
      "Note: you may need to restart the kernel to use updated packages.\n"
     ]
    }
   ],
   "source": [
    "%pip install xarray"
   ]
  },
  {
   "cell_type": "code",
   "execution_count": 4,
   "metadata": {},
   "outputs": [],
   "source": [
    "import xarray\n",
    "\n",
    "output_as_dataarray = xarray.concat(\n",
    "    [xarray.DataArray(X, \n",
    "                      dims=['record', 'edge'],\n",
    "                      coords={'record': range(X.shape[0]),\n",
    "                              'edge': ['start', 'end']},\n",
    "                     ) for X in (A, B, C)],\n",
    "    dim='descriptor',\n",
    ").assign_coords(descriptor=['A', 'B', 'C'])"
   ]
  },
  {
   "cell_type": "code",
   "execution_count": 5,
   "metadata": {},
   "outputs": [
    {
     "data": {
      "text/plain": [
       "<xarray.DataArray (descriptor: 3, record: 4, edge: 2)>\n",
       "array([[[  7.,  20.],\n",
       "        [ 11.,  21.],\n",
       "        [ 56.,  74.],\n",
       "        [ 45.,  12.]],\n",
       "\n",
       "       [[ 42.,  52.],\n",
       "        [ nan,  nan],\n",
       "        [ nan,  nan],\n",
       "        [ nan,  nan]],\n",
       "\n",
       "       [[ 90., 101.],\n",
       "        [213.,  34.],\n",
       "        [  9.,  45.],\n",
       "        [ nan,  nan]]])\n",
       "Coordinates:\n",
       "  * record      (record) int64 0 1 2 3\n",
       "  * edge        (edge) <U5 'start' 'end'\n",
       "  * descriptor  (descriptor) <U1 'A' 'B' 'C'"
      ]
     },
     "execution_count": 5,
     "metadata": {},
     "output_type": "execute_result"
    }
   ],
   "source": [
    "output_as_dataarray"
   ]
  },
  {
   "cell_type": "code",
   "execution_count": null,
   "metadata": {},
   "outputs": [],
   "source": []
  }
 ],
 "metadata": {
  "kernelspec": {
   "display_name": "Python 3",
   "language": "python",
   "name": "python3"
  },
  "language_info": {
   "codemirror_mode": {
    "name": "ipython",
    "version": 3
   },
   "file_extension": ".py",
   "mimetype": "text/x-python",
   "name": "python",
   "nbconvert_exporter": "python",
   "pygments_lexer": "ipython3",
   "version": "3.7.3"
  }
 },
 "nbformat": 4,
 "nbformat_minor": 2
}
